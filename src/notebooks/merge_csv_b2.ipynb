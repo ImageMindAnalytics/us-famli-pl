{
 "cells": [
  {
   "cell_type": "code",
   "execution_count": 4,
   "id": "db888e15-b717-4f48-a8a7-10f5a17c1c36",
   "metadata": {},
   "outputs": [],
   "source": [
    "import pandas as pd\n",
    "import os\n",
    "mount_point = '/mnt/raid/C1_ML_Analysis'"
   ]
  },
  {
   "cell_type": "code",
   "execution_count": 5,
   "id": "a68a525c-4bfa-48a5-9b3c-1060df374bdf",
   "metadata": {},
   "outputs": [],
   "source": [
    "df_ga = pd.read_csv(os.path.join(mount_point, \"CSV_files/GAlte49_20230104.csv\"))\n"
   ]
  },
  {
   "cell_type": "code",
   "execution_count": 13,
   "id": "f8416d60-eac2-49dc-a989-b8912b477be2",
   "metadata": {},
   "outputs": [],
   "source": [
    "def merge_dfs(df_ga, df):\n",
    "    df['file'] = df['img_path'].apply(lambda f: os.path.basename(os.path.dirname(f)) + '.dcm')    \n",
    "    df = df.merge(df_ga, on='file')\n",
    "    df.reset_index(drop=True)\n",
    "    df = df.drop(columns=['Unnamed: 0.1', 'Unnamed: 0', 'img_path_y'])\n",
    "    df = df.rename(columns={'img_path_x': 'img_path'})\n",
    "    return df\n"
   ]
  },
  {
   "cell_type": "code",
   "execution_count": 17,
   "id": "d5030fa3-1fb9-414e-bf57-9488e4c120bf",
   "metadata": {},
   "outputs": [],
   "source": [
    "fn = os.path.join(mount_point, \"CSV_files/Dataset_B2_masked_resampled_256_spcx_train_train.csv\")\n",
    "df_train = pd.read_csv(fn)\n",
    "df_train = merge_dfs(df_ga, df_train)\n",
    "df_train.to_csv(fn, index=False)"
   ]
  },
  {
   "cell_type": "code",
   "execution_count": 18,
   "id": "e14a25f3-315e-4078-9d5d-d77107a5ccbd",
   "metadata": {},
   "outputs": [],
   "source": [
    "fn = os.path.join(mount_point, \"CSV_files/Dataset_B2_masked_resampled_256_spcx_train_test.csv\")\n",
    "df_val = pd.read_csv(fn)\n",
    "df_val = merge_dfs(df_ga, df_val)\n",
    "df_val.to_csv(fn, index=False)"
   ]
  },
  {
   "cell_type": "code",
   "execution_count": 19,
   "id": "5cfc7e64-4b1c-4212-8380-495f8548345b",
   "metadata": {},
   "outputs": [],
   "source": [
    "fn = os.path.join(mount_point, \"CSV_files/Dataset_B2_masked_resampled_256_spcx_test.csv\")\n",
    "df_test = pd.read_csv(fn)\n",
    "df_test = merge_dfs(df_ga, df_train)\n",
    "df_test.to_csv(fn, index=False)"
   ]
  },
  {
   "cell_type": "code",
   "execution_count": 20,
   "id": "53989982-ed18-4bb9-8ba9-15092d2760f6",
   "metadata": {},
   "outputs": [
    {
     "data": {
      "text/plain": [
       "Index(['img_path', 'study_id', 'file', 'PID_date', 'path', 'NumberOfFrames',\n",
       "       'Rows', 'Columns', 'PixelSpacingX', 'PixelSpacingY', 'Manufacturer',\n",
       "       'DeviceSerialNumber', 'episode_edd', 'ga_edd', 'avua',\n",
       "       'is_transvaginal_probe'],\n",
       "      dtype='object')"
      ]
     },
     "execution_count": 20,
     "metadata": {},
     "output_type": "execute_result"
    }
   ],
   "source": [
    "df_train.columns"
   ]
  }
 ],
 "metadata": {
  "kernelspec": {
   "display_name": "Python 3 (ipykernel)",
   "language": "python",
   "name": "python3"
  },
  "language_info": {
   "codemirror_mode": {
    "name": "ipython",
    "version": 3
   },
   "file_extension": ".py",
   "mimetype": "text/x-python",
   "name": "python",
   "nbconvert_exporter": "python",
   "pygments_lexer": "ipython3",
   "version": "3.8.12"
  }
 },
 "nbformat": 4,
 "nbformat_minor": 5
}
